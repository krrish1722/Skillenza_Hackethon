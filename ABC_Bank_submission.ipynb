{
 "cells": [
  {
   "cell_type": "markdown",
   "id": "cd9905a4-bf7b-4368-a690-ba4cfd896d0f",
   "metadata": {},
   "source": [
    "### Objective of the problem: The objective of this problem is to predict the Group number of each customer."
   ]
  },
  {
   "cell_type": "code",
   "execution_count": 1,
   "id": "9192b6d1-228d-4c3a-b83e-6a46e7739eb0",
   "metadata": {},
   "outputs": [],
   "source": [
    "#importing libraries\n",
    "import pandas as pd\n",
    "import numpy as np\n",
    "import matplotlib.pyplot as plt\n",
    "import seaborn as sns"
   ]
  },
  {
   "cell_type": "code",
   "execution_count": 2,
   "id": "41242027-39a4-442f-acb9-8dc567ec0092",
   "metadata": {},
   "outputs": [],
   "source": [
    "df = pd.read_csv(r\"E:\\Python basics\\Pranjal Sir\\9. Skillenza Hackethon\\ABC_Bank_train_data.csv\")"
   ]
  },
  {
   "cell_type": "code",
   "execution_count": 3,
   "id": "2a068301-39be-4672-80e2-6b47463162f7",
   "metadata": {},
   "outputs": [],
   "source": [
    "new = pd.read_csv(r\"E:\\Python basics\\Pranjal Sir\\9. Skillenza Hackethon\\ABC_Bank_test_data.csv\")\n"
   ]
  },
  {
   "cell_type": "code",
   "execution_count": 4,
   "id": "bcb20ba2-c1da-47fc-b654-45c37dcf79ef",
   "metadata": {},
   "outputs": [],
   "source": [
    "df.employment_st = df.employment_st.fillna('A73')\n",
    "df.poi = df.poi.fillna(3)\n",
    "df.age = df.age.fillna(35)\n",
    "df.gurantors = df.gurantors.fillna('A101')\n",
    "df.housing_type = df.housing_type.fillna('A152')"
   ]
  },
  {
   "cell_type": "code",
   "execution_count": 5,
   "id": "67208066-69d9-4f0f-bb63-b5e22b27a1ce",
   "metadata": {},
   "outputs": [],
   "source": [
    "new.employment_st = new.employment_st.fillna('A73')\n",
    "new.poi = new.poi.fillna(3)\n",
    "new.age = new.age.fillna(35)\n",
    "new.gurantors = new.gurantors.fillna('A101')\n",
    "new.housing_type = new.housing_type.fillna('A152')"
   ]
  },
  {
   "cell_type": "code",
   "execution_count": 6,
   "id": "bfe739b8-f427-4bfc-8485-2ab1e7c3147d",
   "metadata": {},
   "outputs": [
    {
     "data": {
      "text/plain": [
       "2    353\n",
       "3    254\n",
       "1    193\n",
       "Name: Group_no, dtype: int64"
      ]
     },
     "execution_count": 6,
     "metadata": {},
     "output_type": "execute_result"
    }
   ],
   "source": [
    "df.Group_no.value_counts()"
   ]
  },
  {
   "cell_type": "code",
   "execution_count": 7,
   "id": "a388555f-7f25-4f04-8f47-456da558b988",
   "metadata": {},
   "outputs": [],
   "source": [
    "df1 = df.drop('serial number',axis=1)\n",
    "new1 = new.drop('serial number',axis=1)"
   ]
  },
  {
   "cell_type": "code",
   "execution_count": 8,
   "id": "137322cb-202a-4df9-a188-1b5b68600dd9",
   "metadata": {},
   "outputs": [],
   "source": [
    "df_categorical = df1.select_dtypes('object').columns\n",
    "new_categorical = new1.select_dtypes('object').columns"
   ]
  },
  {
   "cell_type": "code",
   "execution_count": 9,
   "id": "fef609b1-a046-4931-a3bd-620b4b7c7794",
   "metadata": {},
   "outputs": [
    {
     "data": {
      "text/html": [
       "<div>\n",
       "<style scoped>\n",
       "    .dataframe tbody tr th:only-of-type {\n",
       "        vertical-align: middle;\n",
       "    }\n",
       "\n",
       "    .dataframe tbody tr th {\n",
       "        vertical-align: top;\n",
       "    }\n",
       "\n",
       "    .dataframe thead th {\n",
       "        text-align: right;\n",
       "    }\n",
       "</style>\n",
       "<table border=\"1\" class=\"dataframe\">\n",
       "  <thead>\n",
       "    <tr style=\"text-align: right;\">\n",
       "      <th></th>\n",
       "      <th>serial number</th>\n",
       "      <th>account_info</th>\n",
       "      <th>duration_month</th>\n",
       "      <th>credit_history</th>\n",
       "      <th>purpose</th>\n",
       "      <th>savings_account</th>\n",
       "      <th>employment_st</th>\n",
       "      <th>poi</th>\n",
       "      <th>personal_status</th>\n",
       "      <th>gurantors</th>\n",
       "      <th>...</th>\n",
       "      <th>property_type</th>\n",
       "      <th>age</th>\n",
       "      <th>installment_type</th>\n",
       "      <th>housing_type</th>\n",
       "      <th>credits_no</th>\n",
       "      <th>job_type</th>\n",
       "      <th>liables</th>\n",
       "      <th>telephone</th>\n",
       "      <th>foreigner</th>\n",
       "      <th>Group_no</th>\n",
       "    </tr>\n",
       "  </thead>\n",
       "  <tbody>\n",
       "    <tr>\n",
       "      <th>0</th>\n",
       "      <td>1</td>\n",
       "      <td>A11</td>\n",
       "      <td>6</td>\n",
       "      <td>A34</td>\n",
       "      <td>A43</td>\n",
       "      <td>A65</td>\n",
       "      <td>A75</td>\n",
       "      <td>4.0</td>\n",
       "      <td>A93</td>\n",
       "      <td>A101</td>\n",
       "      <td>...</td>\n",
       "      <td>A121</td>\n",
       "      <td>67.0</td>\n",
       "      <td>A143</td>\n",
       "      <td>A152</td>\n",
       "      <td>2</td>\n",
       "      <td>A173</td>\n",
       "      <td>1</td>\n",
       "      <td>A192</td>\n",
       "      <td>A201</td>\n",
       "      <td>3</td>\n",
       "    </tr>\n",
       "    <tr>\n",
       "      <th>1</th>\n",
       "      <td>2</td>\n",
       "      <td>A12</td>\n",
       "      <td>48</td>\n",
       "      <td>A32</td>\n",
       "      <td>A43</td>\n",
       "      <td>A61</td>\n",
       "      <td>A73</td>\n",
       "      <td>2.0</td>\n",
       "      <td>A92</td>\n",
       "      <td>A101</td>\n",
       "      <td>...</td>\n",
       "      <td>A121</td>\n",
       "      <td>22.0</td>\n",
       "      <td>A143</td>\n",
       "      <td>A152</td>\n",
       "      <td>1</td>\n",
       "      <td>A173</td>\n",
       "      <td>1</td>\n",
       "      <td>A191</td>\n",
       "      <td>A201</td>\n",
       "      <td>1</td>\n",
       "    </tr>\n",
       "    <tr>\n",
       "      <th>2</th>\n",
       "      <td>3</td>\n",
       "      <td>A14</td>\n",
       "      <td>12</td>\n",
       "      <td>A34</td>\n",
       "      <td>A46</td>\n",
       "      <td>A61</td>\n",
       "      <td>A74</td>\n",
       "      <td>2.0</td>\n",
       "      <td>A93</td>\n",
       "      <td>A101</td>\n",
       "      <td>...</td>\n",
       "      <td>A121</td>\n",
       "      <td>49.0</td>\n",
       "      <td>A143</td>\n",
       "      <td>A152</td>\n",
       "      <td>1</td>\n",
       "      <td>A172</td>\n",
       "      <td>2</td>\n",
       "      <td>A191</td>\n",
       "      <td>A201</td>\n",
       "      <td>2</td>\n",
       "    </tr>\n",
       "    <tr>\n",
       "      <th>3</th>\n",
       "      <td>4</td>\n",
       "      <td>A11</td>\n",
       "      <td>42</td>\n",
       "      <td>A32</td>\n",
       "      <td>A42</td>\n",
       "      <td>A61</td>\n",
       "      <td>A74</td>\n",
       "      <td>2.0</td>\n",
       "      <td>A93</td>\n",
       "      <td>A103</td>\n",
       "      <td>...</td>\n",
       "      <td>A122</td>\n",
       "      <td>45.0</td>\n",
       "      <td>A143</td>\n",
       "      <td>A153</td>\n",
       "      <td>1</td>\n",
       "      <td>A173</td>\n",
       "      <td>2</td>\n",
       "      <td>A191</td>\n",
       "      <td>A201</td>\n",
       "      <td>1</td>\n",
       "    </tr>\n",
       "    <tr>\n",
       "      <th>4</th>\n",
       "      <td>5</td>\n",
       "      <td>A11</td>\n",
       "      <td>24</td>\n",
       "      <td>A33</td>\n",
       "      <td>A40</td>\n",
       "      <td>A61</td>\n",
       "      <td>A73</td>\n",
       "      <td>3.0</td>\n",
       "      <td>A93</td>\n",
       "      <td>A101</td>\n",
       "      <td>...</td>\n",
       "      <td>A124</td>\n",
       "      <td>53.0</td>\n",
       "      <td>A143</td>\n",
       "      <td>A153</td>\n",
       "      <td>2</td>\n",
       "      <td>A173</td>\n",
       "      <td>2</td>\n",
       "      <td>A191</td>\n",
       "      <td>A201</td>\n",
       "      <td>1</td>\n",
       "    </tr>\n",
       "  </tbody>\n",
       "</table>\n",
       "<p>5 rows × 21 columns</p>\n",
       "</div>"
      ],
      "text/plain": [
       "   serial number account_info  duration_month credit_history purpose  \\\n",
       "0              1          A11               6            A34     A43   \n",
       "1              2          A12              48            A32     A43   \n",
       "2              3          A14              12            A34     A46   \n",
       "3              4          A11              42            A32     A42   \n",
       "4              5          A11              24            A33     A40   \n",
       "\n",
       "  savings_account employment_st  poi personal_status gurantors  ...  \\\n",
       "0             A65           A75  4.0             A93      A101  ...   \n",
       "1             A61           A73  2.0             A92      A101  ...   \n",
       "2             A61           A74  2.0             A93      A101  ...   \n",
       "3             A61           A74  2.0             A93      A103  ...   \n",
       "4             A61           A73  3.0             A93      A101  ...   \n",
       "\n",
       "   property_type   age  installment_type housing_type credits_no  job_type  \\\n",
       "0           A121  67.0              A143         A152          2      A173   \n",
       "1           A121  22.0              A143         A152          1      A173   \n",
       "2           A121  49.0              A143         A152          1      A172   \n",
       "3           A122  45.0              A143         A153          1      A173   \n",
       "4           A124  53.0              A143         A153          2      A173   \n",
       "\n",
       "  liables  telephone foreigner Group_no  \n",
       "0       1       A192      A201        3  \n",
       "1       1       A191      A201        1  \n",
       "2       2       A191      A201        2  \n",
       "3       2       A191      A201        1  \n",
       "4       2       A191      A201        1  \n",
       "\n",
       "[5 rows x 21 columns]"
      ]
     },
     "execution_count": 9,
     "metadata": {},
     "output_type": "execute_result"
    }
   ],
   "source": [
    "df.head()"
   ]
  },
  {
   "cell_type": "code",
   "execution_count": 87,
   "id": "b5a38726-1d93-42e2-9f46-7ac0e10f52f7",
   "metadata": {},
   "outputs": [],
   "source": [
    "df1 = pd.get_dummies(df1, columns=df_categorical, drop_first=True)\n",
    "new1 = pd.get_dummies(new1, columns=new_categorical, drop_first=True)\n"
   ]
  },
  {
   "cell_type": "code",
   "execution_count": 88,
   "id": "136d2687-34ef-4bf6-8b1e-0ba8070c09e4",
   "metadata": {},
   "outputs": [
    {
     "data": {
      "text/plain": [
       "(800, 48)"
      ]
     },
     "execution_count": 88,
     "metadata": {},
     "output_type": "execute_result"
    }
   ],
   "source": [
    "df1.shape"
   ]
  },
  {
   "cell_type": "code",
   "execution_count": 89,
   "id": "b944d99f-20cb-43cc-a380-91c55ffe6355",
   "metadata": {},
   "outputs": [
    {
     "data": {
      "text/plain": [
       "(200, 47)"
      ]
     },
     "execution_count": 89,
     "metadata": {},
     "output_type": "execute_result"
    }
   ],
   "source": [
    "new1.shape"
   ]
  },
  {
   "cell_type": "code",
   "execution_count": 90,
   "id": "f81ac79b-581b-4d77-b283-2ee1e5de5915",
   "metadata": {},
   "outputs": [],
   "source": [
    "df1_x = df1.drop('Group_no',axis=1)\n",
    "df1_y = df1['Group_no']"
   ]
  },
  {
   "cell_type": "code",
   "execution_count": 91,
   "id": "18d055dc-ec07-4212-ba50-cd60c1f46ba4",
   "metadata": {
    "tags": []
   },
   "outputs": [],
   "source": [
    "from sklearn.model_selection import train_test_split\n",
    "train , test = train_test_split(df1,test_size=.2)\n",
    "train_x = train.drop('Group_no', axis=1)\n",
    "train_y = train['Group_no']\n",
    "test_x = test.drop('Group_no', axis=1)\n",
    "test_y = test['Group_no']\n"
   ]
  },
  {
   "cell_type": "code",
   "execution_count": 92,
   "id": "cf9a4676-bb1b-4fef-a509-3b6e3665e31e",
   "metadata": {},
   "outputs": [],
   "source": [
    "train_x = np.array(train_x)\n",
    "train_y = np.array(train_y)\n",
    "test_x  = np.array(test_x)\n",
    "test_y  = np.array(test_y)"
   ]
  },
  {
   "cell_type": "code",
   "execution_count": 93,
   "id": "9dadca8d-a2b0-4e9a-9709-9135a405b5fc",
   "metadata": {},
   "outputs": [],
   "source": [
    "from keras.layers              import Dense, LSTM, Embedding\n",
    "from tensorflow.keras.utils    import to_categorical\n",
    "from keras.models              import Sequential\n",
    "from keras.preprocessing.text  import Tokenizer\n",
    "from tensorflow.keras.preprocessing.sequence import pad_sequences\n",
    "from tensorflow.keras.optimizers import Adam"
   ]
  },
  {
   "cell_type": "code",
   "execution_count": 94,
   "id": "5b69be95-0a6e-4f0d-9061-dddd5d6c1b7d",
   "metadata": {},
   "outputs": [],
   "source": [
    "train_x = tf.keras.utils.normalize(train_x)\n",
    "test_x  = tf.keras.utils.normalize(test_x)"
   ]
  },
  {
   "cell_type": "code",
   "execution_count": 95,
   "id": "21105655-e9d3-4979-9667-52c8968005c8",
   "metadata": {},
   "outputs": [],
   "source": [
    "from keras.layers import Conv2D , MaxPool2D , Flatten , Dense , Dropout"
   ]
  },
  {
   "cell_type": "code",
   "execution_count": 112,
   "id": "3993ba62-d017-449d-864c-9e083cbeac98",
   "metadata": {},
   "outputs": [],
   "source": [
    "model = tf.keras.models.Sequential()                               # sequential mean fully connected\n",
    "\n",
    "model.add(tf.keras.layers.Dense(256 , activation = tf.nn.relu))    # Hidden layers -- 128 neurons\n",
    "model.add(tf.keras.layers.Dense(256 , activation = tf.nn.relu))\n",
    "model.add(tf.keras.layers.Dense(256 , activation = tf.nn.relu))\n",
    "\n",
    "model.add(Dropout(0.2))\n",
    "model.add(tf.keras.layers.Dense(4 , activation = tf.nn.softmax))  # Output Layer\n",
    "\n",
    "adam = tf.keras.optimizers.Adam(learning_rate=0.001) # 0.001"
   ]
  },
  {
   "cell_type": "code",
   "execution_count": 113,
   "id": "07b1b952-364e-4eb2-9b2d-d3fcc9ab120a",
   "metadata": {},
   "outputs": [],
   "source": [
    "model.compile(optimizer= adam , loss= 'sparse_categorical_crossentropy' , metrics= ['accuracy'] )"
   ]
  },
  {
   "cell_type": "code",
   "execution_count": 114,
   "id": "c9f806bb-b1a5-49cf-b66f-c576c3f1ed71",
   "metadata": {},
   "outputs": [
    {
     "name": "stdout",
     "output_type": "stream",
     "text": [
      "Epoch 1/10\n",
      "4/4 [==============================] - 2s 100ms/step - loss: 1.3278 - accuracy: 0.3945 - val_loss: 1.2185 - val_accuracy: 0.5156\n",
      "Epoch 2/10\n",
      "4/4 [==============================] - 0s 22ms/step - loss: 1.1940 - accuracy: 0.4297 - val_loss: 1.0824 - val_accuracy: 0.5156\n",
      "Epoch 3/10\n",
      "4/4 [==============================] - 0s 20ms/step - loss: 1.0922 - accuracy: 0.4297 - val_loss: 0.9989 - val_accuracy: 0.5156\n",
      "Epoch 4/10\n",
      "4/4 [==============================] - 0s 22ms/step - loss: 1.0173 - accuracy: 0.4434 - val_loss: 0.9585 - val_accuracy: 0.5234\n",
      "Epoch 5/10\n",
      "4/4 [==============================] - 0s 21ms/step - loss: 0.9617 - accuracy: 0.5273 - val_loss: 0.9351 - val_accuracy: 0.5469\n",
      "Epoch 6/10\n",
      "4/4 [==============================] - 0s 21ms/step - loss: 0.9236 - accuracy: 0.5508 - val_loss: 0.8953 - val_accuracy: 0.5469\n",
      "Epoch 7/10\n",
      "4/4 [==============================] - 0s 19ms/step - loss: 0.9091 - accuracy: 0.5488 - val_loss: 0.8782 - val_accuracy: 0.5234\n",
      "Epoch 8/10\n",
      "4/4 [==============================] - 0s 21ms/step - loss: 0.8999 - accuracy: 0.5625 - val_loss: 0.8800 - val_accuracy: 0.5625\n",
      "Epoch 9/10\n",
      "4/4 [==============================] - 0s 22ms/step - loss: 0.8822 - accuracy: 0.5820 - val_loss: 0.8656 - val_accuracy: 0.5625\n",
      "Epoch 10/10\n",
      "4/4 [==============================] - 0s 21ms/step - loss: 0.8851 - accuracy: 0.5488 - val_loss: 0.8555 - val_accuracy: 0.5469\n"
     ]
    },
    {
     "data": {
      "text/plain": [
       "<keras.callbacks.History at 0x1a904c56a30>"
      ]
     },
     "execution_count": 114,
     "metadata": {},
     "output_type": "execute_result"
    }
   ],
   "source": [
    "model.fit(train_x ,train_y  , epochs = 10 , batch_size = 128 , validation_split= .2)"
   ]
  },
  {
   "cell_type": "code",
   "execution_count": 115,
   "id": "6c00797f-fc9b-40ee-a321-b3871763168e",
   "metadata": {},
   "outputs": [
    {
     "name": "stdout",
     "output_type": "stream",
     "text": [
      "5/5 [==============================] - 0s 3ms/step\n"
     ]
    }
   ],
   "source": [
    "pred = model.predict(test_x)"
   ]
  },
  {
   "cell_type": "code",
   "execution_count": 103,
   "id": "429c2030-0d25-456f-bf15-fdad1b2e3d90",
   "metadata": {},
   "outputs": [],
   "source": [
    "pred_classes = np.argmax(pred , axis=1)  # max values index value\n",
    "                                         # probability into classes"
   ]
  },
  {
   "cell_type": "code",
   "execution_count": 106,
   "id": "df911697-6a38-4555-bcde-237d2d63598a",
   "metadata": {},
   "outputs": [
    {
     "data": {
      "text/plain": [
       "array([[21, 11,  2],\n",
       "       [14, 42, 23],\n",
       "       [ 4, 14, 29]], dtype=int64)"
      ]
     },
     "execution_count": 106,
     "metadata": {},
     "output_type": "execute_result"
    }
   ],
   "source": [
    "from sklearn.metrics import confusion_matrix\n",
    "tab = confusion_matrix(pred_classes , test_y)\n",
    "tab"
   ]
  },
  {
   "cell_type": "code",
   "execution_count": 107,
   "id": "9cb0cfc9-673a-4720-9696-882184c42124",
   "metadata": {},
   "outputs": [
    {
     "data": {
      "text/plain": [
       "0.575"
      ]
     },
     "execution_count": 107,
     "metadata": {},
     "output_type": "execute_result"
    }
   ],
   "source": [
    "tab.diagonal().sum() / tab.sum()"
   ]
  },
  {
   "cell_type": "code",
   "execution_count": null,
   "id": "e362c596-ccbf-48a0-a955-306de65c510f",
   "metadata": {},
   "outputs": [],
   "source": []
  },
  {
   "cell_type": "code",
   "execution_count": null,
   "id": "ea8a6161-6d8e-4673-afa5-31e31dbe6cfb",
   "metadata": {},
   "outputs": [],
   "source": []
  },
  {
   "cell_type": "code",
   "execution_count": null,
   "id": "914902e6-5b5d-41fd-9b5d-62d36ad151f9",
   "metadata": {},
   "outputs": [],
   "source": []
  },
  {
   "cell_type": "code",
   "execution_count": null,
   "id": "b54ce33c-8911-4884-9563-bb43a5ca6e97",
   "metadata": {},
   "outputs": [],
   "source": []
  },
  {
   "cell_type": "code",
   "execution_count": null,
   "id": "a1da3ac5-3f04-4cd8-8a88-1ca6920fe5fa",
   "metadata": {},
   "outputs": [],
   "source": []
  },
  {
   "cell_type": "code",
   "execution_count": 188,
   "id": "e24a4032-a030-4ac5-ba99-fb47c6990e3f",
   "metadata": {
    "collapsed": true,
    "jupyter": {
     "outputs_hidden": true
    },
    "tags": []
   },
   "outputs": [
    {
     "ename": "ValueError",
     "evalue": "Classification metrics can't handle a mix of multiclass-multioutput and multiclass targets",
     "output_type": "error",
     "traceback": [
      "\u001b[1;31m---------------------------------------------------------------------------\u001b[0m",
      "\u001b[1;31mValueError\u001b[0m                                Traceback (most recent call last)",
      "Input \u001b[1;32mIn [188]\u001b[0m, in \u001b[0;36m<cell line: 23>\u001b[1;34m()\u001b[0m\n\u001b[0;32m     24\u001b[0m     model\u001b[38;5;241m.\u001b[39mfit(df1_x, df1_y)\n\u001b[0;32m     25\u001b[0m     pred \u001b[38;5;241m=\u001b[39m model\u001b[38;5;241m.\u001b[39mpredict(new1)\n\u001b[1;32m---> 27\u001b[0m     acc\u001b[38;5;241m.\u001b[39mappend(\u001b[43maccuracy_score\u001b[49m\u001b[43m(\u001b[49m\u001b[43mpredicted\u001b[49m\u001b[43m,\u001b[49m\u001b[43m \u001b[49m\u001b[43mpred\u001b[49m\u001b[43m)\u001b[49m)\n\u001b[0;32m     29\u001b[0m model_names \u001b[38;5;241m=\u001b[39m [\u001b[38;5;124m'\u001b[39m\u001b[38;5;124mlogreg\u001b[39m\u001b[38;5;124m'\u001b[39m, \u001b[38;5;124m'\u001b[39m\u001b[38;5;124mdt\u001b[39m\u001b[38;5;124m'\u001b[39m,\u001b[38;5;124m'\u001b[39m\u001b[38;5;124mrf\u001b[39m\u001b[38;5;124m'\u001b[39m,\u001b[38;5;124m'\u001b[39m\u001b[38;5;124mknn\u001b[39m\u001b[38;5;124m'\u001b[39m,\u001b[38;5;124m'\u001b[39m\u001b[38;5;124msvc\u001b[39m\u001b[38;5;124m'\u001b[39m,\u001b[38;5;124m'\u001b[39m\u001b[38;5;124mada\u001b[39m\u001b[38;5;124m'\u001b[39m]\n\u001b[0;32m     30\u001b[0m result \u001b[38;5;241m=\u001b[39m pd\u001b[38;5;241m.\u001b[39mDataFrame({\u001b[38;5;124m'\u001b[39m\u001b[38;5;124mAccuracy\u001b[39m\u001b[38;5;124m'\u001b[39m:acc}, index\u001b[38;5;241m=\u001b[39mmodel_names)\n",
      "File \u001b[1;32m~\\anaconda3\\lib\\site-packages\\sklearn\\metrics\\_classification.py:211\u001b[0m, in \u001b[0;36maccuracy_score\u001b[1;34m(y_true, y_pred, normalize, sample_weight)\u001b[0m\n\u001b[0;32m    145\u001b[0m \u001b[38;5;124;03m\"\"\"Accuracy classification score.\u001b[39;00m\n\u001b[0;32m    146\u001b[0m \n\u001b[0;32m    147\u001b[0m \u001b[38;5;124;03mIn multilabel classification, this function computes subset accuracy:\u001b[39;00m\n\u001b[1;32m   (...)\u001b[0m\n\u001b[0;32m    207\u001b[0m \u001b[38;5;124;03m0.5\u001b[39;00m\n\u001b[0;32m    208\u001b[0m \u001b[38;5;124;03m\"\"\"\u001b[39;00m\n\u001b[0;32m    210\u001b[0m \u001b[38;5;66;03m# Compute accuracy for each possible representation\u001b[39;00m\n\u001b[1;32m--> 211\u001b[0m y_type, y_true, y_pred \u001b[38;5;241m=\u001b[39m \u001b[43m_check_targets\u001b[49m\u001b[43m(\u001b[49m\u001b[43my_true\u001b[49m\u001b[43m,\u001b[49m\u001b[43m \u001b[49m\u001b[43my_pred\u001b[49m\u001b[43m)\u001b[49m\n\u001b[0;32m    212\u001b[0m check_consistent_length(y_true, y_pred, sample_weight)\n\u001b[0;32m    213\u001b[0m \u001b[38;5;28;01mif\u001b[39;00m y_type\u001b[38;5;241m.\u001b[39mstartswith(\u001b[38;5;124m\"\u001b[39m\u001b[38;5;124mmultilabel\u001b[39m\u001b[38;5;124m\"\u001b[39m):\n",
      "File \u001b[1;32m~\\anaconda3\\lib\\site-packages\\sklearn\\metrics\\_classification.py:93\u001b[0m, in \u001b[0;36m_check_targets\u001b[1;34m(y_true, y_pred)\u001b[0m\n\u001b[0;32m     90\u001b[0m     y_type \u001b[38;5;241m=\u001b[39m {\u001b[38;5;124m\"\u001b[39m\u001b[38;5;124mmulticlass\u001b[39m\u001b[38;5;124m\"\u001b[39m}\n\u001b[0;32m     92\u001b[0m \u001b[38;5;28;01mif\u001b[39;00m \u001b[38;5;28mlen\u001b[39m(y_type) \u001b[38;5;241m>\u001b[39m \u001b[38;5;241m1\u001b[39m:\n\u001b[1;32m---> 93\u001b[0m     \u001b[38;5;28;01mraise\u001b[39;00m \u001b[38;5;167;01mValueError\u001b[39;00m(\n\u001b[0;32m     94\u001b[0m         \u001b[38;5;124m\"\u001b[39m\u001b[38;5;124mClassification metrics can\u001b[39m\u001b[38;5;124m'\u001b[39m\u001b[38;5;124mt handle a mix of \u001b[39m\u001b[38;5;132;01m{0}\u001b[39;00m\u001b[38;5;124m and \u001b[39m\u001b[38;5;132;01m{1}\u001b[39;00m\u001b[38;5;124m targets\u001b[39m\u001b[38;5;124m\"\u001b[39m\u001b[38;5;241m.\u001b[39mformat(\n\u001b[0;32m     95\u001b[0m             type_true, type_pred\n\u001b[0;32m     96\u001b[0m         )\n\u001b[0;32m     97\u001b[0m     )\n\u001b[0;32m     99\u001b[0m \u001b[38;5;66;03m# We can't have more than one value on y_type => The set is no more needed\u001b[39;00m\n\u001b[0;32m    100\u001b[0m y_type \u001b[38;5;241m=\u001b[39m y_type\u001b[38;5;241m.\u001b[39mpop()\n",
      "\u001b[1;31mValueError\u001b[0m: Classification metrics can't handle a mix of multiclass-multioutput and multiclass targets"
     ]
    }
   ],
   "source": [
    "from sklearn.linear_model import LogisticRegression\n",
    "from sklearn.tree import DecisionTreeClassifier\n",
    "from sklearn.ensemble import RandomForestClassifier\n",
    "from sklearn.neighbors import KNeighborsClassifier\n",
    "from sklearn.svm import SVC\n",
    "from sklearn.model_selection import cross_val_score\n",
    "from sklearn.ensemble import AdaBoostClassifier\n",
    "from sklearn.metrics import confusion_matrix,accuracy_score\n",
    "\n",
    "model_names = []\n",
    "acc = []\n",
    "\n",
    "logreg = LogisticRegression(class_weight='balanced',max_iter= 2000)\n",
    "dt = DecisionTreeClassifier(class_weight='balanced')\n",
    "rf = RandomForestClassifier(class_weight='balanced',criterion='entropy',n_estimators=\n",
    "                           250,max_depth=9)\n",
    "knn = KNeighborsClassifier()\n",
    "svc = SVC()\n",
    "ada = AdaBoostClassifier(dt, n_estimators=250)\n",
    "\n",
    "models = [logreg, dt,rf,knn,svc,ada]\n",
    "\n",
    "for model in models:\n",
    "    model.fit(df1_x, df1_y)\n",
    "    pred = model.predict(new1)\n",
    "    \n",
    "    acc.append(accuracy_score(predicted, pred))\n",
    "    \n",
    "model_names = ['logreg', 'dt','rf','knn','svc','ada']\n",
    "result = pd.DataFrame({'Accuracy':acc}, index=model_names)\n",
    "result"
   ]
  },
  {
   "cell_type": "code",
   "execution_count": 165,
   "id": "6360d4f8-8f97-4c1e-a667-b368125a2831",
   "metadata": {},
   "outputs": [
    {
     "data": {
      "text/plain": [
       "array([2, 3, 1, 3, 3, 1, 3, 3, 1, 2, 3, 3, 1, 1, 1, 1, 3, 2, 1, 3, 3, 3,\n",
       "       1, 3, 2, 3, 1, 1, 1, 1, 2, 3, 1, 2, 3, 3, 3, 2, 1, 2, 2, 1, 3, 2,\n",
       "       2, 1, 2, 3, 3, 3, 3, 1, 2, 3, 1, 3, 3, 2, 3, 2, 2, 3, 2, 2, 2, 2,\n",
       "       3, 2, 1, 3, 1, 3, 2, 3, 2, 3, 1, 2, 2, 1, 1, 1, 2, 3, 2, 3, 1, 1,\n",
       "       1, 2, 1, 3, 3, 1, 2, 1, 2, 3, 2, 2, 2, 2, 1, 3, 2, 2, 2, 1, 1, 3,\n",
       "       2, 2, 1, 2, 2, 1, 2, 1, 1, 2, 2, 1, 3, 3, 2, 3, 2, 1, 2, 3, 2, 3,\n",
       "       3, 3, 3, 1, 3, 3, 1, 1, 1, 3, 2, 3, 2, 1, 2, 3, 2, 1, 3, 1, 2, 1,\n",
       "       3, 2, 1, 3, 2, 2, 3, 1, 2, 2, 3, 2, 2, 2, 1, 2, 3, 1, 1, 1, 2, 3,\n",
       "       3, 3, 2, 2, 1, 1, 1, 1, 1, 3, 1, 3, 1, 1, 2, 3, 2, 1, 3, 3, 1, 3,\n",
       "       1, 1], dtype=int64)"
      ]
     },
     "execution_count": 184,
     "metadata": {},
     "output_type": "execute_result"
    }
   ],
   "source": [
    "pred"
   ]
  },
  {
   "cell_type": "code",
   "execution_count": 30,
   "id": "38e4fe11-64df-4b99-a3cb-89a147db735d",
   "metadata": {},
   "outputs": [
    {
     "data": {
      "text/plain": [
       "array([0.6328125, 0.640625 , 0.65625  , 0.671875 , 0.671875 ])"
      ]
     },
     "execution_count": 30,
     "metadata": {},
     "output_type": "execute_result"
    }
   ],
   "source": [
    "score_dt = cross_val_score(rf,train_x,train_y, cv=5,scoring='accuracy')\n",
    "score_dt"
   ]
  },
  {
   "cell_type": "code",
   "execution_count": null,
   "id": "0f37f430-19a5-47d0-bdb1-bf6b2965eac3",
   "metadata": {},
   "outputs": [],
   "source": []
  },
  {
   "cell_type": "code",
   "execution_count": 319,
   "id": "e9810c11-343e-48e7-a46a-9f766f581192",
   "metadata": {},
   "outputs": [
    {
     "data": {
      "text/html": [
       "<div>\n",
       "<style scoped>\n",
       "    .dataframe tbody tr th:only-of-type {\n",
       "        vertical-align: middle;\n",
       "    }\n",
       "\n",
       "    .dataframe tbody tr th {\n",
       "        vertical-align: top;\n",
       "    }\n",
       "\n",
       "    .dataframe thead th {\n",
       "        text-align: right;\n",
       "    }\n",
       "</style>\n",
       "<table border=\"1\" class=\"dataframe\">\n",
       "  <thead>\n",
       "    <tr style=\"text-align: right;\">\n",
       "      <th></th>\n",
       "      <th>col</th>\n",
       "      <th>corel</th>\n",
       "    </tr>\n",
       "  </thead>\n",
       "  <tbody>\n",
       "    <tr>\n",
       "      <th>0</th>\n",
       "      <td>account_info</td>\n",
       "      <td>0.018239</td>\n",
       "    </tr>\n",
       "    <tr>\n",
       "      <th>1</th>\n",
       "      <td>duration_month</td>\n",
       "      <td>-0.588725</td>\n",
       "    </tr>\n",
       "    <tr>\n",
       "      <th>2</th>\n",
       "      <td>credit_history</td>\n",
       "      <td>0.002485</td>\n",
       "    </tr>\n",
       "    <tr>\n",
       "      <th>3</th>\n",
       "      <td>purpose</td>\n",
       "      <td>-0.031545</td>\n",
       "    </tr>\n",
       "    <tr>\n",
       "      <th>4</th>\n",
       "      <td>savings_account</td>\n",
       "      <td>-0.016609</td>\n",
       "    </tr>\n",
       "    <tr>\n",
       "      <th>5</th>\n",
       "      <td>employment_st</td>\n",
       "      <td>0.003857</td>\n",
       "    </tr>\n",
       "    <tr>\n",
       "      <th>6</th>\n",
       "      <td>poi</td>\n",
       "      <td>0.259414</td>\n",
       "    </tr>\n",
       "    <tr>\n",
       "      <th>7</th>\n",
       "      <td>personal_status</td>\n",
       "      <td>-0.014649</td>\n",
       "    </tr>\n",
       "    <tr>\n",
       "      <th>8</th>\n",
       "      <td>gurantors</td>\n",
       "      <td>0.029298</td>\n",
       "    </tr>\n",
       "    <tr>\n",
       "      <th>9</th>\n",
       "      <td>resident_since</td>\n",
       "      <td>-0.026316</td>\n",
       "    </tr>\n",
       "    <tr>\n",
       "      <th>10</th>\n",
       "      <td>property_type</td>\n",
       "      <td>-0.296965</td>\n",
       "    </tr>\n",
       "    <tr>\n",
       "      <th>11</th>\n",
       "      <td>age</td>\n",
       "      <td>-0.003927</td>\n",
       "    </tr>\n",
       "    <tr>\n",
       "      <th>12</th>\n",
       "      <td>installment_type</td>\n",
       "      <td>0.030340</td>\n",
       "    </tr>\n",
       "    <tr>\n",
       "      <th>13</th>\n",
       "      <td>housing_type</td>\n",
       "      <td>-0.098448</td>\n",
       "    </tr>\n",
       "    <tr>\n",
       "      <th>14</th>\n",
       "      <td>credits_no</td>\n",
       "      <td>-0.056597</td>\n",
       "    </tr>\n",
       "    <tr>\n",
       "      <th>15</th>\n",
       "      <td>job_type</td>\n",
       "      <td>-0.299299</td>\n",
       "    </tr>\n",
       "    <tr>\n",
       "      <th>16</th>\n",
       "      <td>liables</td>\n",
       "      <td>-0.009469</td>\n",
       "    </tr>\n",
       "    <tr>\n",
       "      <th>17</th>\n",
       "      <td>telephone</td>\n",
       "      <td>-0.255166</td>\n",
       "    </tr>\n",
       "    <tr>\n",
       "      <th>18</th>\n",
       "      <td>foreigner</td>\n",
       "      <td>0.111158</td>\n",
       "    </tr>\n",
       "    <tr>\n",
       "      <th>19</th>\n",
       "      <td>Group_no</td>\n",
       "      <td>1.000000</td>\n",
       "    </tr>\n",
       "  </tbody>\n",
       "</table>\n",
       "</div>"
      ],
      "text/plain": [
       "                 col     corel\n",
       "0       account_info  0.018239\n",
       "1     duration_month -0.588725\n",
       "2     credit_history  0.002485\n",
       "3            purpose -0.031545\n",
       "4    savings_account -0.016609\n",
       "5      employment_st  0.003857\n",
       "6                poi  0.259414\n",
       "7    personal_status -0.014649\n",
       "8          gurantors  0.029298\n",
       "9     resident_since -0.026316\n",
       "10     property_type -0.296965\n",
       "11               age -0.003927\n",
       "12  installment_type  0.030340\n",
       "13      housing_type -0.098448\n",
       "14        credits_no -0.056597\n",
       "15          job_type -0.299299\n",
       "16           liables -0.009469\n",
       "17         telephone -0.255166\n",
       "18         foreigner  0.111158\n",
       "19          Group_no  1.000000"
      ]
     },
     "execution_count": 319,
     "metadata": {},
     "output_type": "execute_result"
    }
   ],
   "source": [
    "cor = []\n",
    "col = df.columns\n",
    "for i in col:\n",
    "    cor.append(df['Group_no'].corr(df[i]))\n",
    "cor\n",
    "\n",
    "correl = pd.DataFrame({'col': col, 'corel':cor})\n",
    "correl"
   ]
  },
  {
   "cell_type": "code",
   "execution_count": 320,
   "id": "6ea3091a-4a29-4e82-919c-7ce7717ebacb",
   "metadata": {},
   "outputs": [
    {
     "data": {
      "text/plain": [
       "['duration_month',\n",
       " 'poi',\n",
       " 'property_type',\n",
       " 'housing_type',\n",
       " 'credits_no',\n",
       " 'job_type',\n",
       " 'telephone',\n",
       " 'foreigner',\n",
       " 'Group_no']"
      ]
     },
     "execution_count": 320,
     "metadata": {},
     "output_type": "execute_result"
    }
   ],
   "source": [
    "cols = list(correl.col[(correl.corel < -0.05) | (correl.corel > 0.05)])\n",
    "cols"
   ]
  },
  {
   "cell_type": "code",
   "execution_count": 321,
   "id": "6d5c7695-11de-4196-a254-7893b795e20d",
   "metadata": {},
   "outputs": [
    {
     "data": {
      "text/plain": [
       "2    353\n",
       "3    254\n",
       "1    193\n",
       "Name: Group_no, dtype: int64"
      ]
     },
     "execution_count": 321,
     "metadata": {},
     "output_type": "execute_result"
    }
   ],
   "source": [
    "df.Group_no.value_counts()"
   ]
  },
  {
   "cell_type": "code",
   "execution_count": null,
   "id": "53efd136-3ece-4a08-ac02-dc2b3f00771c",
   "metadata": {},
   "outputs": [],
   "source": [
    "lo"
   ]
  },
  {
   "cell_type": "code",
   "execution_count": 124,
   "id": "1e449bbb-8c93-4b1a-a8d4-15cf50f9badb",
   "metadata": {},
   "outputs": [
    {
     "name": "stdout",
     "output_type": "stream",
     "text": [
      "The Confusion Matrix\n",
      "  [[24 11  1]\n",
      " [ 7 44 19]\n",
      " [ 0 15 39]] \n",
      "------------\n",
      "The Accuracy Score is -  0.66875 \n",
      "------------\n"
     ]
    }
   ],
   "source": [
    "rf = RandomForestClassifier(class_weight='balanced',criterion='entropy',n_estimators=\n",
    "                           250,max_depth=9)\n",
    "rf.fit(train_x, train_y)\n",
    "pred = rf.predict(test_x)\n",
    "\n",
    "tab =  confusion_matrix(test_y, pred)\n",
    "acc = accuracy_score(test_y, pred)\n",
    "print(\"The Confusion Matrix\\n \",   tab,        '\\n------------')\n",
    "print(\"The Accuracy Score is - \",  acc,        '\\n------------')"
   ]
  },
  {
   "cell_type": "code",
   "execution_count": 125,
   "id": "fd468c9d-2aa8-4861-84ba-dd605d56328c",
   "metadata": {},
   "outputs": [
    {
     "name": "stdout",
     "output_type": "stream",
     "text": [
      "The Confusion Matrix\n",
      "  [[24 12  0]\n",
      " [ 5 46 19]\n",
      " [ 0 16 38]] \n",
      "------------\n",
      "The Accuracy Score is -  0.675 \n",
      "------------\n"
     ]
    }
   ],
   "source": [
    "ada = AdaBoostClassifier(rf,n_estimators=150,learning_rate=0.05)\n",
    "ada.fit(train_x, train_y)\n",
    "pred = ada.predict(test_x)\n",
    "\n",
    "tab =  confusion_matrix(test_y, pred)\n",
    "acc = accuracy_score(test_y, pred)\n",
    "print(\"The Confusion Matrix\\n \",   tab,        '\\n------------')\n",
    "print(\"The Accuracy Score is - \",  acc,        '\\n------------')\n"
   ]
  },
  {
   "cell_type": "code",
   "execution_count": 67,
   "id": "6275c632-e05d-4e95-a2e4-da9085210384",
   "metadata": {},
   "outputs": [
    {
     "data": {
      "text/plain": [
       "{'max_depth': 7}"
      ]
     },
     "execution_count": 67,
     "metadata": {},
     "output_type": "execute_result"
    }
   ],
   "source": [
    "from sklearn.model_selection import GridSearchCV\n",
    "search_dict = {\"max_depth\": range(3,10)\n",
    "              }\n",
    "grid = GridSearchCV(rf, param_grid = search_dict)\n",
    "grid.fit(train_x , train_y)\n",
    "grid.best_params_"
   ]
  },
  {
   "cell_type": "code",
   "execution_count": 31,
   "id": "fc71435f-e60e-44fe-b413-56ca2b4325a5",
   "metadata": {},
   "outputs": [
    {
     "data": {
      "text/plain": [
       "0.640625"
      ]
     },
     "execution_count": 31,
     "metadata": {},
     "output_type": "execute_result"
    }
   ],
   "source": [
    "grid.best_score_"
   ]
  },
  {
   "cell_type": "code",
   "execution_count": null,
   "id": "684c8a87-edb2-4628-92e4-8c8d861023a2",
   "metadata": {},
   "outputs": [],
   "source": []
  },
  {
   "cell_type": "code",
   "execution_count": 34,
   "id": "6e28d7c7-b231-45c5-965b-ec13b89d2d93",
   "metadata": {},
   "outputs": [
    {
     "data": {
      "text/html": [
       "<div>\n",
       "<style scoped>\n",
       "    .dataframe tbody tr th:only-of-type {\n",
       "        vertical-align: middle;\n",
       "    }\n",
       "\n",
       "    .dataframe tbody tr th {\n",
       "        vertical-align: top;\n",
       "    }\n",
       "\n",
       "    .dataframe thead th {\n",
       "        text-align: right;\n",
       "    }\n",
       "</style>\n",
       "<table border=\"1\" class=\"dataframe\">\n",
       "  <thead>\n",
       "    <tr style=\"text-align: right;\">\n",
       "      <th></th>\n",
       "      <th>columns</th>\n",
       "      <th>Score</th>\n",
       "    </tr>\n",
       "  </thead>\n",
       "  <tbody>\n",
       "    <tr>\n",
       "      <th>0</th>\n",
       "      <td>duration_month</td>\n",
       "      <td>0.253791</td>\n",
       "    </tr>\n",
       "    <tr>\n",
       "      <th>1</th>\n",
       "      <td>poi</td>\n",
       "      <td>0.084145</td>\n",
       "    </tr>\n",
       "    <tr>\n",
       "      <th>3</th>\n",
       "      <td>age</td>\n",
       "      <td>0.063452</td>\n",
       "    </tr>\n",
       "    <tr>\n",
       "      <th>44</th>\n",
       "      <td>job_type_A174</td>\n",
       "      <td>0.044318</td>\n",
       "    </tr>\n",
       "    <tr>\n",
       "      <th>4</th>\n",
       "      <td>credits_no</td>\n",
       "      <td>0.023943</td>\n",
       "    </tr>\n",
       "    <tr>\n",
       "      <th>42</th>\n",
       "      <td>job_type_A172</td>\n",
       "      <td>0.023774</td>\n",
       "    </tr>\n",
       "    <tr>\n",
       "      <th>45</th>\n",
       "      <td>telephone_A192</td>\n",
       "      <td>0.023345</td>\n",
       "    </tr>\n",
       "    <tr>\n",
       "      <th>37</th>\n",
       "      <td>property_type_A124</td>\n",
       "      <td>0.022423</td>\n",
       "    </tr>\n",
       "    <tr>\n",
       "      <th>2</th>\n",
       "      <td>resident_since</td>\n",
       "      <td>0.022319</td>\n",
       "    </tr>\n",
       "    <tr>\n",
       "      <th>43</th>\n",
       "      <td>job_type_A173</td>\n",
       "      <td>0.022009</td>\n",
       "    </tr>\n",
       "    <tr>\n",
       "      <th>13</th>\n",
       "      <td>purpose_A41</td>\n",
       "      <td>0.021784</td>\n",
       "    </tr>\n",
       "    <tr>\n",
       "      <th>31</th>\n",
       "      <td>personal_status_A93</td>\n",
       "      <td>0.019121</td>\n",
       "    </tr>\n",
       "    <tr>\n",
       "      <th>15</th>\n",
       "      <td>purpose_A42</td>\n",
       "      <td>0.018981</td>\n",
       "    </tr>\n",
       "    <tr>\n",
       "      <th>6</th>\n",
       "      <td>account_info_A12</td>\n",
       "      <td>0.018330</td>\n",
       "    </tr>\n",
       "    <tr>\n",
       "      <th>10</th>\n",
       "      <td>credit_history_A32</td>\n",
       "      <td>0.017331</td>\n",
       "    </tr>\n",
       "  </tbody>\n",
       "</table>\n",
       "</div>"
      ],
      "text/plain": [
       "                columns     Score\n",
       "0        duration_month  0.253791\n",
       "1                   poi  0.084145\n",
       "3                   age  0.063452\n",
       "44        job_type_A174  0.044318\n",
       "4            credits_no  0.023943\n",
       "42        job_type_A172  0.023774\n",
       "45       telephone_A192  0.023345\n",
       "37   property_type_A124  0.022423\n",
       "2        resident_since  0.022319\n",
       "43        job_type_A173  0.022009\n",
       "13          purpose_A41  0.021784\n",
       "31  personal_status_A93  0.019121\n",
       "15          purpose_A42  0.018981\n",
       "6      account_info_A12  0.018330\n",
       "10   credit_history_A32  0.017331"
      ]
     },
     "execution_count": 34,
     "metadata": {},
     "output_type": "execute_result"
    }
   ],
   "source": [
    "feature_importance = pd.DataFrame()\n",
    "feature_importance['columns'] = train_x.columns\n",
    "feature_importance['Score'] = rf.feature_importances_\n",
    "feature_importance.sort_values('Score', ascending=False).head(15)    \n"
   ]
  },
  {
   "cell_type": "code",
   "execution_count": 41,
   "id": "b7e77db1-cbf6-4559-8da6-39cd08104767",
   "metadata": {},
   "outputs": [],
   "source": [
    "df2 = df1.loc[:,['duration_month','poi','age','property_type_A124','job_type_A174','credits_no','Group_no','job_type_A172','telephone_A192','job_type_A173','resident_since']]"
   ]
  },
  {
   "cell_type": "code",
   "execution_count": 247,
   "id": "3617adeb-61d3-4ee8-8ca7-3e0c43212bca",
   "metadata": {},
   "outputs": [],
   "source": [
    "df2 = df.loc[:,['duration_month','poi','property_type','job_type','age','purpose','employment_st','Group_no']]"
   ]
  },
  {
   "cell_type": "code",
   "execution_count": 42,
   "id": "783e1ff3-8ae3-4130-a11a-4958fba41be6",
   "metadata": {},
   "outputs": [
    {
     "data": {
      "text/html": [
       "<div>\n",
       "<style scoped>\n",
       "    .dataframe tbody tr th:only-of-type {\n",
       "        vertical-align: middle;\n",
       "    }\n",
       "\n",
       "    .dataframe tbody tr th {\n",
       "        vertical-align: top;\n",
       "    }\n",
       "\n",
       "    .dataframe thead th {\n",
       "        text-align: right;\n",
       "    }\n",
       "</style>\n",
       "<table border=\"1\" class=\"dataframe\">\n",
       "  <thead>\n",
       "    <tr style=\"text-align: right;\">\n",
       "      <th></th>\n",
       "      <th>duration_month</th>\n",
       "      <th>poi</th>\n",
       "      <th>age</th>\n",
       "      <th>property_type_A124</th>\n",
       "      <th>job_type_A174</th>\n",
       "      <th>credits_no</th>\n",
       "      <th>Group_no</th>\n",
       "      <th>job_type_A172</th>\n",
       "      <th>telephone_A192</th>\n",
       "      <th>job_type_A173</th>\n",
       "      <th>resident_since</th>\n",
       "    </tr>\n",
       "  </thead>\n",
       "  <tbody>\n",
       "    <tr>\n",
       "      <th>0</th>\n",
       "      <td>6</td>\n",
       "      <td>4.0</td>\n",
       "      <td>67.0</td>\n",
       "      <td>0</td>\n",
       "      <td>0</td>\n",
       "      <td>2</td>\n",
       "      <td>3</td>\n",
       "      <td>0</td>\n",
       "      <td>1</td>\n",
       "      <td>1</td>\n",
       "      <td>4</td>\n",
       "    </tr>\n",
       "    <tr>\n",
       "      <th>1</th>\n",
       "      <td>48</td>\n",
       "      <td>2.0</td>\n",
       "      <td>22.0</td>\n",
       "      <td>0</td>\n",
       "      <td>0</td>\n",
       "      <td>1</td>\n",
       "      <td>1</td>\n",
       "      <td>0</td>\n",
       "      <td>0</td>\n",
       "      <td>1</td>\n",
       "      <td>2</td>\n",
       "    </tr>\n",
       "    <tr>\n",
       "      <th>2</th>\n",
       "      <td>12</td>\n",
       "      <td>2.0</td>\n",
       "      <td>49.0</td>\n",
       "      <td>0</td>\n",
       "      <td>0</td>\n",
       "      <td>1</td>\n",
       "      <td>2</td>\n",
       "      <td>1</td>\n",
       "      <td>0</td>\n",
       "      <td>0</td>\n",
       "      <td>3</td>\n",
       "    </tr>\n",
       "    <tr>\n",
       "      <th>3</th>\n",
       "      <td>42</td>\n",
       "      <td>2.0</td>\n",
       "      <td>45.0</td>\n",
       "      <td>0</td>\n",
       "      <td>0</td>\n",
       "      <td>1</td>\n",
       "      <td>1</td>\n",
       "      <td>0</td>\n",
       "      <td>0</td>\n",
       "      <td>1</td>\n",
       "      <td>4</td>\n",
       "    </tr>\n",
       "    <tr>\n",
       "      <th>4</th>\n",
       "      <td>24</td>\n",
       "      <td>3.0</td>\n",
       "      <td>53.0</td>\n",
       "      <td>1</td>\n",
       "      <td>0</td>\n",
       "      <td>2</td>\n",
       "      <td>1</td>\n",
       "      <td>0</td>\n",
       "      <td>0</td>\n",
       "      <td>1</td>\n",
       "      <td>4</td>\n",
       "    </tr>\n",
       "  </tbody>\n",
       "</table>\n",
       "</div>"
      ],
      "text/plain": [
       "   duration_month  poi   age  property_type_A124  job_type_A174  credits_no  \\\n",
       "0               6  4.0  67.0                   0              0           2   \n",
       "1              48  2.0  22.0                   0              0           1   \n",
       "2              12  2.0  49.0                   0              0           1   \n",
       "3              42  2.0  45.0                   0              0           1   \n",
       "4              24  3.0  53.0                   1              0           2   \n",
       "\n",
       "   Group_no  job_type_A172  telephone_A192  job_type_A173  resident_since  \n",
       "0         3              0               1              1               4  \n",
       "1         1              0               0              1               2  \n",
       "2         2              1               0              0               3  \n",
       "3         1              0               0              1               4  \n",
       "4         1              0               0              1               4  "
      ]
     },
     "execution_count": 42,
     "metadata": {},
     "output_type": "execute_result"
    }
   ],
   "source": [
    "df2.head()"
   ]
  },
  {
   "cell_type": "code",
   "execution_count": null,
   "id": "488100d0-32f4-45df-868a-71307aee04ef",
   "metadata": {},
   "outputs": [],
   "source": []
  },
  {
   "cell_type": "code",
   "execution_count": null,
   "id": "a36649b2-0f38-4781-9a0e-f994bb7cc034",
   "metadata": {},
   "outputs": [],
   "source": []
  },
  {
   "cell_type": "code",
   "execution_count": null,
   "id": "830daa60-5f95-4b3d-8f74-b30d20a351a2",
   "metadata": {},
   "outputs": [],
   "source": []
  },
  {
   "cell_type": "code",
   "execution_count": null,
   "id": "ddf5a7c9-fbf7-4b57-9235-2192d92c8722",
   "metadata": {},
   "outputs": [],
   "source": []
  },
  {
   "cell_type": "code",
   "execution_count": null,
   "id": "063cd887-f1a4-4b84-9b30-1fe9f8f530d5",
   "metadata": {},
   "outputs": [],
   "source": []
  },
  {
   "cell_type": "code",
   "execution_count": null,
   "id": "eef0bd15-a16d-4a0f-ad95-5b7450e8a309",
   "metadata": {},
   "outputs": [],
   "source": []
  },
  {
   "cell_type": "code",
   "execution_count": 126,
   "id": "5051b45e-1278-4adc-95d8-23c5249614a3",
   "metadata": {},
   "outputs": [
    {
     "data": {
      "text/html": [
       "<div>\n",
       "<style scoped>\n",
       "    .dataframe tbody tr th:only-of-type {\n",
       "        vertical-align: middle;\n",
       "    }\n",
       "\n",
       "    .dataframe tbody tr th {\n",
       "        vertical-align: top;\n",
       "    }\n",
       "\n",
       "    .dataframe thead th {\n",
       "        text-align: right;\n",
       "    }\n",
       "</style>\n",
       "<table border=\"1\" class=\"dataframe\">\n",
       "  <thead>\n",
       "    <tr style=\"text-align: right;\">\n",
       "      <th></th>\n",
       "      <th>serial number</th>\n",
       "      <th>account_info</th>\n",
       "      <th>duration_month</th>\n",
       "      <th>credit_history</th>\n",
       "      <th>purpose</th>\n",
       "      <th>savings_account</th>\n",
       "      <th>employment_st</th>\n",
       "      <th>poi</th>\n",
       "      <th>personal_status</th>\n",
       "      <th>gurantors</th>\n",
       "      <th>resident_since</th>\n",
       "      <th>property_type</th>\n",
       "      <th>age</th>\n",
       "      <th>installment_type</th>\n",
       "      <th>housing_type</th>\n",
       "      <th>credits_no</th>\n",
       "      <th>job_type</th>\n",
       "      <th>liables</th>\n",
       "      <th>telephone</th>\n",
       "      <th>foreigner</th>\n",
       "    </tr>\n",
       "  </thead>\n",
       "  <tbody>\n",
       "    <tr>\n",
       "      <th>0</th>\n",
       "      <td>1</td>\n",
       "      <td>A14</td>\n",
       "      <td>24</td>\n",
       "      <td>A34</td>\n",
       "      <td>A46</td>\n",
       "      <td>A61</td>\n",
       "      <td>A75</td>\n",
       "      <td>4.0</td>\n",
       "      <td>A93</td>\n",
       "      <td>A101</td>\n",
       "      <td>4</td>\n",
       "      <td>A124</td>\n",
       "      <td>54.0</td>\n",
       "      <td>A143</td>\n",
       "      <td>A153</td>\n",
       "      <td>2</td>\n",
       "      <td>A173</td>\n",
       "      <td>2</td>\n",
       "      <td>A191</td>\n",
       "      <td>A201</td>\n",
       "    </tr>\n",
       "    <tr>\n",
       "      <th>1</th>\n",
       "      <td>2</td>\n",
       "      <td>A12</td>\n",
       "      <td>18</td>\n",
       "      <td>A34</td>\n",
       "      <td>A43</td>\n",
       "      <td>A61</td>\n",
       "      <td>A75</td>\n",
       "      <td>3.0</td>\n",
       "      <td>A92</td>\n",
       "      <td>A103</td>\n",
       "      <td>4</td>\n",
       "      <td>A121</td>\n",
       "      <td>48.0</td>\n",
       "      <td>A141</td>\n",
       "      <td>A151</td>\n",
       "      <td>2</td>\n",
       "      <td>A172</td>\n",
       "      <td>1</td>\n",
       "      <td>A192</td>\n",
       "      <td>A201</td>\n",
       "    </tr>\n",
       "    <tr>\n",
       "      <th>2</th>\n",
       "      <td>3</td>\n",
       "      <td>A11</td>\n",
       "      <td>20</td>\n",
       "      <td>A34</td>\n",
       "      <td>A42</td>\n",
       "      <td>A61</td>\n",
       "      <td>A75</td>\n",
       "      <td>1.0</td>\n",
       "      <td>A92</td>\n",
       "      <td>A101</td>\n",
       "      <td>4</td>\n",
       "      <td>A122</td>\n",
       "      <td>24.0</td>\n",
       "      <td>A143</td>\n",
       "      <td>A152</td>\n",
       "      <td>2</td>\n",
       "      <td>A173</td>\n",
       "      <td>1</td>\n",
       "      <td>A191</td>\n",
       "      <td>A201</td>\n",
       "    </tr>\n",
       "    <tr>\n",
       "      <th>3</th>\n",
       "      <td>4</td>\n",
       "      <td>A14</td>\n",
       "      <td>12</td>\n",
       "      <td>A34</td>\n",
       "      <td>A43</td>\n",
       "      <td>A65</td>\n",
       "      <td>A75</td>\n",
       "      <td>4.0</td>\n",
       "      <td>A93</td>\n",
       "      <td>A101</td>\n",
       "      <td>4</td>\n",
       "      <td>A123</td>\n",
       "      <td>35.0</td>\n",
       "      <td>A143</td>\n",
       "      <td>A152</td>\n",
       "      <td>2</td>\n",
       "      <td>A173</td>\n",
       "      <td>1</td>\n",
       "      <td>A191</td>\n",
       "      <td>A201</td>\n",
       "    </tr>\n",
       "    <tr>\n",
       "      <th>4</th>\n",
       "      <td>5</td>\n",
       "      <td>A12</td>\n",
       "      <td>12</td>\n",
       "      <td>A32</td>\n",
       "      <td>A40</td>\n",
       "      <td>A65</td>\n",
       "      <td>A71</td>\n",
       "      <td>1.0</td>\n",
       "      <td>A92</td>\n",
       "      <td>A101</td>\n",
       "      <td>2</td>\n",
       "      <td>A121</td>\n",
       "      <td>24.0</td>\n",
       "      <td>A143</td>\n",
       "      <td>A151</td>\n",
       "      <td>1</td>\n",
       "      <td>A171</td>\n",
       "      <td>1</td>\n",
       "      <td>A191</td>\n",
       "      <td>A201</td>\n",
       "    </tr>\n",
       "  </tbody>\n",
       "</table>\n",
       "</div>"
      ],
      "text/plain": [
       "   serial number account_info  duration_month credit_history purpose  \\\n",
       "0              1          A14              24            A34     A46   \n",
       "1              2          A12              18            A34     A43   \n",
       "2              3          A11              20            A34     A42   \n",
       "3              4          A14              12            A34     A43   \n",
       "4              5          A12              12            A32     A40   \n",
       "\n",
       "  savings_account employment_st  poi personal_status gurantors  \\\n",
       "0             A61           A75  4.0             A93      A101   \n",
       "1             A61           A75  3.0             A92      A103   \n",
       "2             A61           A75  1.0             A92      A101   \n",
       "3             A65           A75  4.0             A93      A101   \n",
       "4             A65           A71  1.0             A92      A101   \n",
       "\n",
       "   resident_since property_type   age installment_type housing_type  \\\n",
       "0               4          A124  54.0             A143         A153   \n",
       "1               4          A121  48.0             A141         A151   \n",
       "2               4          A122  24.0             A143         A152   \n",
       "3               4          A123  35.0             A143         A152   \n",
       "4               2          A121  24.0             A143         A151   \n",
       "\n",
       "   credits_no job_type  liables telephone foreigner  \n",
       "0           2     A173        2      A191      A201  \n",
       "1           2     A172        1      A192      A201  \n",
       "2           2     A173        1      A191      A201  \n",
       "3           2     A173        1      A191      A201  \n",
       "4           1     A171        1      A191      A201  "
      ]
     },
     "execution_count": 126,
     "metadata": {},
     "output_type": "execute_result"
    }
   ],
   "source": [
    "new = pd.read_csv(r\"E:\\Python basics\\Pranjal Sir\\9. Skillenza Hackethon\\ABC_Bank_test_data.csv\")\n",
    "new.head()"
   ]
  },
  {
   "cell_type": "code",
   "execution_count": 127,
   "id": "2f040188-0784-4d06-9390-e94750cb5273",
   "metadata": {},
   "outputs": [
    {
     "data": {
      "text/plain": [
       "serial number       0\n",
       "account_info        0\n",
       "duration_month      0\n",
       "credit_history      0\n",
       "purpose             0\n",
       "savings_account     0\n",
       "employment_st       5\n",
       "poi                 5\n",
       "personal_status     0\n",
       "gurantors           0\n",
       "resident_since      0\n",
       "property_type       0\n",
       "age                 2\n",
       "installment_type    0\n",
       "housing_type        8\n",
       "credits_no          0\n",
       "job_type            0\n",
       "liables             0\n",
       "telephone           0\n",
       "foreigner           0\n",
       "dtype: int64"
      ]
     },
     "execution_count": 127,
     "metadata": {},
     "output_type": "execute_result"
    }
   ],
   "source": [
    "new.isnull().sum()"
   ]
  },
  {
   "cell_type": "code",
   "execution_count": 128,
   "id": "3b4926e8-04c9-487d-a8ad-73ed7c05080f",
   "metadata": {},
   "outputs": [],
   "source": [
    "new.employment_st = new.employment_st.fillna('A73')\n",
    "new.poi = new.poi.fillna(3)\n",
    "new.age = new.age.fillna(35)\n",
    "new.gurantors = new.gurantors.fillna('A101')\n",
    "new.housing_type = new.housing_type.fillna('A152')"
   ]
  },
  {
   "cell_type": "code",
   "execution_count": 129,
   "id": "660465ce-f688-4000-acd3-068e4caef892",
   "metadata": {},
   "outputs": [
    {
     "data": {
      "text/plain": [
       "Index(['account_info', 'credit_history', 'purpose', 'savings_account',\n",
       "       'employment_st', 'personal_status', 'gurantors', 'property_type',\n",
       "       'installment_type', 'housing_type', 'job_type', 'telephone',\n",
       "       'foreigner'],\n",
       "      dtype='object')"
      ]
     },
     "execution_count": 129,
     "metadata": {},
     "output_type": "execute_result"
    }
   ],
   "source": [
    "categorical = new.select_dtypes('object').columns\n",
    "categorical"
   ]
  },
  {
   "cell_type": "code",
   "execution_count": 130,
   "id": "6f3c63f4-5aaf-4c18-87f8-ebc27a354305",
   "metadata": {},
   "outputs": [
    {
     "data": {
      "text/html": [
       "<div>\n",
       "<style scoped>\n",
       "    .dataframe tbody tr th:only-of-type {\n",
       "        vertical-align: middle;\n",
       "    }\n",
       "\n",
       "    .dataframe tbody tr th {\n",
       "        vertical-align: top;\n",
       "    }\n",
       "\n",
       "    .dataframe thead th {\n",
       "        text-align: right;\n",
       "    }\n",
       "</style>\n",
       "<table border=\"1\" class=\"dataframe\">\n",
       "  <thead>\n",
       "    <tr style=\"text-align: right;\">\n",
       "      <th></th>\n",
       "      <th>serial number</th>\n",
       "      <th>duration_month</th>\n",
       "      <th>poi</th>\n",
       "      <th>resident_since</th>\n",
       "      <th>age</th>\n",
       "      <th>credits_no</th>\n",
       "      <th>liables</th>\n",
       "      <th>account_info_A12</th>\n",
       "      <th>account_info_A13</th>\n",
       "      <th>account_info_A14</th>\n",
       "      <th>...</th>\n",
       "      <th>property_type_A124</th>\n",
       "      <th>installment_type_A142</th>\n",
       "      <th>installment_type_A143</th>\n",
       "      <th>housing_type_A152</th>\n",
       "      <th>housing_type_A153</th>\n",
       "      <th>job_type_A172</th>\n",
       "      <th>job_type_A173</th>\n",
       "      <th>job_type_A174</th>\n",
       "      <th>telephone_A192</th>\n",
       "      <th>foreigner_A202</th>\n",
       "    </tr>\n",
       "  </thead>\n",
       "  <tbody>\n",
       "    <tr>\n",
       "      <th>0</th>\n",
       "      <td>1</td>\n",
       "      <td>24</td>\n",
       "      <td>4.0</td>\n",
       "      <td>4</td>\n",
       "      <td>54.0</td>\n",
       "      <td>2</td>\n",
       "      <td>2</td>\n",
       "      <td>0</td>\n",
       "      <td>0</td>\n",
       "      <td>1</td>\n",
       "      <td>...</td>\n",
       "      <td>1</td>\n",
       "      <td>0</td>\n",
       "      <td>1</td>\n",
       "      <td>0</td>\n",
       "      <td>1</td>\n",
       "      <td>0</td>\n",
       "      <td>1</td>\n",
       "      <td>0</td>\n",
       "      <td>0</td>\n",
       "      <td>0</td>\n",
       "    </tr>\n",
       "    <tr>\n",
       "      <th>1</th>\n",
       "      <td>2</td>\n",
       "      <td>18</td>\n",
       "      <td>3.0</td>\n",
       "      <td>4</td>\n",
       "      <td>48.0</td>\n",
       "      <td>2</td>\n",
       "      <td>1</td>\n",
       "      <td>1</td>\n",
       "      <td>0</td>\n",
       "      <td>0</td>\n",
       "      <td>...</td>\n",
       "      <td>0</td>\n",
       "      <td>0</td>\n",
       "      <td>0</td>\n",
       "      <td>0</td>\n",
       "      <td>0</td>\n",
       "      <td>1</td>\n",
       "      <td>0</td>\n",
       "      <td>0</td>\n",
       "      <td>1</td>\n",
       "      <td>0</td>\n",
       "    </tr>\n",
       "    <tr>\n",
       "      <th>2</th>\n",
       "      <td>3</td>\n",
       "      <td>20</td>\n",
       "      <td>1.0</td>\n",
       "      <td>4</td>\n",
       "      <td>24.0</td>\n",
       "      <td>2</td>\n",
       "      <td>1</td>\n",
       "      <td>0</td>\n",
       "      <td>0</td>\n",
       "      <td>0</td>\n",
       "      <td>...</td>\n",
       "      <td>0</td>\n",
       "      <td>0</td>\n",
       "      <td>1</td>\n",
       "      <td>1</td>\n",
       "      <td>0</td>\n",
       "      <td>0</td>\n",
       "      <td>1</td>\n",
       "      <td>0</td>\n",
       "      <td>0</td>\n",
       "      <td>0</td>\n",
       "    </tr>\n",
       "    <tr>\n",
       "      <th>3</th>\n",
       "      <td>4</td>\n",
       "      <td>12</td>\n",
       "      <td>4.0</td>\n",
       "      <td>4</td>\n",
       "      <td>35.0</td>\n",
       "      <td>2</td>\n",
       "      <td>1</td>\n",
       "      <td>0</td>\n",
       "      <td>0</td>\n",
       "      <td>1</td>\n",
       "      <td>...</td>\n",
       "      <td>0</td>\n",
       "      <td>0</td>\n",
       "      <td>1</td>\n",
       "      <td>1</td>\n",
       "      <td>0</td>\n",
       "      <td>0</td>\n",
       "      <td>1</td>\n",
       "      <td>0</td>\n",
       "      <td>0</td>\n",
       "      <td>0</td>\n",
       "    </tr>\n",
       "    <tr>\n",
       "      <th>4</th>\n",
       "      <td>5</td>\n",
       "      <td>12</td>\n",
       "      <td>1.0</td>\n",
       "      <td>2</td>\n",
       "      <td>24.0</td>\n",
       "      <td>1</td>\n",
       "      <td>1</td>\n",
       "      <td>1</td>\n",
       "      <td>0</td>\n",
       "      <td>0</td>\n",
       "      <td>...</td>\n",
       "      <td>0</td>\n",
       "      <td>0</td>\n",
       "      <td>1</td>\n",
       "      <td>0</td>\n",
       "      <td>0</td>\n",
       "      <td>0</td>\n",
       "      <td>0</td>\n",
       "      <td>0</td>\n",
       "      <td>0</td>\n",
       "      <td>0</td>\n",
       "    </tr>\n",
       "  </tbody>\n",
       "</table>\n",
       "<p>5 rows × 48 columns</p>\n",
       "</div>"
      ],
      "text/plain": [
       "   serial number  duration_month  poi  resident_since   age  credits_no  \\\n",
       "0              1              24  4.0               4  54.0           2   \n",
       "1              2              18  3.0               4  48.0           2   \n",
       "2              3              20  1.0               4  24.0           2   \n",
       "3              4              12  4.0               4  35.0           2   \n",
       "4              5              12  1.0               2  24.0           1   \n",
       "\n",
       "   liables  account_info_A12  account_info_A13  account_info_A14  ...  \\\n",
       "0        2                 0                 0                 1  ...   \n",
       "1        1                 1                 0                 0  ...   \n",
       "2        1                 0                 0                 0  ...   \n",
       "3        1                 0                 0                 1  ...   \n",
       "4        1                 1                 0                 0  ...   \n",
       "\n",
       "   property_type_A124  installment_type_A142  installment_type_A143  \\\n",
       "0                   1                      0                      1   \n",
       "1                   0                      0                      0   \n",
       "2                   0                      0                      1   \n",
       "3                   0                      0                      1   \n",
       "4                   0                      0                      1   \n",
       "\n",
       "   housing_type_A152  housing_type_A153  job_type_A172  job_type_A173  \\\n",
       "0                  0                  1              0              1   \n",
       "1                  0                  0              1              0   \n",
       "2                  1                  0              0              1   \n",
       "3                  1                  0              0              1   \n",
       "4                  0                  0              0              0   \n",
       "\n",
       "   job_type_A174  telephone_A192  foreigner_A202  \n",
       "0              0               0               0  \n",
       "1              0               1               0  \n",
       "2              0               0               0  \n",
       "3              0               0               0  \n",
       "4              0               0               0  \n",
       "\n",
       "[5 rows x 48 columns]"
      ]
     },
     "execution_count": 130,
     "metadata": {},
     "output_type": "execute_result"
    }
   ],
   "source": [
    "new1 = pd.get_dummies(new, columns=categorical, drop_first=True)\n",
    "new1.head()"
   ]
  },
  {
   "cell_type": "code",
   "execution_count": 131,
   "id": "b026b7e9-feba-4fb1-a3af-011542849294",
   "metadata": {},
   "outputs": [],
   "source": [
    "new1 = new1.drop('serial number',axis=1)"
   ]
  },
  {
   "cell_type": "code",
   "execution_count": null,
   "id": "71c28b0d-0d80-4df6-ac19-3f9bc7d27b09",
   "metadata": {},
   "outputs": [],
   "source": []
  },
  {
   "cell_type": "code",
   "execution_count": null,
   "id": "6df408ea-c320-4a08-9918-07436bc0f981",
   "metadata": {},
   "outputs": [],
   "source": []
  },
  {
   "cell_type": "code",
   "execution_count": null,
   "id": "bb4548bc-4d45-4815-b6fe-d79b691f0c26",
   "metadata": {},
   "outputs": [],
   "source": []
  },
  {
   "cell_type": "code",
   "execution_count": null,
   "id": "ec2103b7-7b4c-4513-9da4-8e7fafc8098c",
   "metadata": {},
   "outputs": [],
   "source": []
  },
  {
   "cell_type": "code",
   "execution_count": null,
   "id": "8de3c3dc-8285-4dc5-9e0f-690532c03363",
   "metadata": {},
   "outputs": [],
   "source": []
  },
  {
   "cell_type": "code",
   "execution_count": 49,
   "id": "2a9bc37b-d7dd-4f38-9847-e5ee8a183fa5",
   "metadata": {},
   "outputs": [],
   "source": [
    "from sklearn.preprocessing import LabelEncoder\n",
    "le = LabelEncoder()\n",
    "new[new.select_dtypes(include = 'object').columns] = new[new.select_dtypes(include = 'object').columns].apply(le.fit_transform)"
   ]
  },
  {
   "cell_type": "code",
   "execution_count": 50,
   "id": "c6d2ea5b-db07-4da1-ae88-c6757fd24377",
   "metadata": {},
   "outputs": [
    {
     "data": {
      "text/html": [
       "<div>\n",
       "<style scoped>\n",
       "    .dataframe tbody tr th:only-of-type {\n",
       "        vertical-align: middle;\n",
       "    }\n",
       "\n",
       "    .dataframe tbody tr th {\n",
       "        vertical-align: top;\n",
       "    }\n",
       "\n",
       "    .dataframe thead th {\n",
       "        text-align: right;\n",
       "    }\n",
       "</style>\n",
       "<table border=\"1\" class=\"dataframe\">\n",
       "  <thead>\n",
       "    <tr style=\"text-align: right;\">\n",
       "      <th></th>\n",
       "      <th>serial number</th>\n",
       "      <th>account_info</th>\n",
       "      <th>duration_month</th>\n",
       "      <th>credit_history</th>\n",
       "      <th>purpose</th>\n",
       "      <th>savings_account</th>\n",
       "      <th>employment_st</th>\n",
       "      <th>poi</th>\n",
       "      <th>personal_status</th>\n",
       "      <th>gurantors</th>\n",
       "      <th>resident_since</th>\n",
       "      <th>property_type</th>\n",
       "      <th>age</th>\n",
       "      <th>installment_type</th>\n",
       "      <th>housing_type</th>\n",
       "      <th>credits_no</th>\n",
       "      <th>job_type</th>\n",
       "      <th>liables</th>\n",
       "      <th>telephone</th>\n",
       "      <th>foreigner</th>\n",
       "    </tr>\n",
       "  </thead>\n",
       "  <tbody>\n",
       "    <tr>\n",
       "      <th>0</th>\n",
       "      <td>1</td>\n",
       "      <td>3</td>\n",
       "      <td>24</td>\n",
       "      <td>4</td>\n",
       "      <td>7</td>\n",
       "      <td>0</td>\n",
       "      <td>4</td>\n",
       "      <td>4.0</td>\n",
       "      <td>2</td>\n",
       "      <td>0</td>\n",
       "      <td>4</td>\n",
       "      <td>3</td>\n",
       "      <td>54.0</td>\n",
       "      <td>2</td>\n",
       "      <td>2</td>\n",
       "      <td>2</td>\n",
       "      <td>2</td>\n",
       "      <td>2</td>\n",
       "      <td>0</td>\n",
       "      <td>0</td>\n",
       "    </tr>\n",
       "    <tr>\n",
       "      <th>1</th>\n",
       "      <td>2</td>\n",
       "      <td>1</td>\n",
       "      <td>18</td>\n",
       "      <td>4</td>\n",
       "      <td>4</td>\n",
       "      <td>0</td>\n",
       "      <td>4</td>\n",
       "      <td>3.0</td>\n",
       "      <td>1</td>\n",
       "      <td>2</td>\n",
       "      <td>4</td>\n",
       "      <td>0</td>\n",
       "      <td>48.0</td>\n",
       "      <td>0</td>\n",
       "      <td>0</td>\n",
       "      <td>2</td>\n",
       "      <td>1</td>\n",
       "      <td>1</td>\n",
       "      <td>1</td>\n",
       "      <td>0</td>\n",
       "    </tr>\n",
       "    <tr>\n",
       "      <th>2</th>\n",
       "      <td>3</td>\n",
       "      <td>0</td>\n",
       "      <td>20</td>\n",
       "      <td>4</td>\n",
       "      <td>3</td>\n",
       "      <td>0</td>\n",
       "      <td>4</td>\n",
       "      <td>1.0</td>\n",
       "      <td>1</td>\n",
       "      <td>0</td>\n",
       "      <td>4</td>\n",
       "      <td>1</td>\n",
       "      <td>24.0</td>\n",
       "      <td>2</td>\n",
       "      <td>1</td>\n",
       "      <td>2</td>\n",
       "      <td>2</td>\n",
       "      <td>1</td>\n",
       "      <td>0</td>\n",
       "      <td>0</td>\n",
       "    </tr>\n",
       "    <tr>\n",
       "      <th>3</th>\n",
       "      <td>4</td>\n",
       "      <td>3</td>\n",
       "      <td>12</td>\n",
       "      <td>4</td>\n",
       "      <td>4</td>\n",
       "      <td>4</td>\n",
       "      <td>4</td>\n",
       "      <td>4.0</td>\n",
       "      <td>2</td>\n",
       "      <td>0</td>\n",
       "      <td>4</td>\n",
       "      <td>2</td>\n",
       "      <td>35.0</td>\n",
       "      <td>2</td>\n",
       "      <td>1</td>\n",
       "      <td>2</td>\n",
       "      <td>2</td>\n",
       "      <td>1</td>\n",
       "      <td>0</td>\n",
       "      <td>0</td>\n",
       "    </tr>\n",
       "    <tr>\n",
       "      <th>4</th>\n",
       "      <td>5</td>\n",
       "      <td>1</td>\n",
       "      <td>12</td>\n",
       "      <td>2</td>\n",
       "      <td>0</td>\n",
       "      <td>4</td>\n",
       "      <td>0</td>\n",
       "      <td>1.0</td>\n",
       "      <td>1</td>\n",
       "      <td>0</td>\n",
       "      <td>2</td>\n",
       "      <td>0</td>\n",
       "      <td>24.0</td>\n",
       "      <td>2</td>\n",
       "      <td>0</td>\n",
       "      <td>1</td>\n",
       "      <td>0</td>\n",
       "      <td>1</td>\n",
       "      <td>0</td>\n",
       "      <td>0</td>\n",
       "    </tr>\n",
       "  </tbody>\n",
       "</table>\n",
       "</div>"
      ],
      "text/plain": [
       "   serial number  account_info  duration_month  credit_history  purpose  \\\n",
       "0              1             3              24               4        7   \n",
       "1              2             1              18               4        4   \n",
       "2              3             0              20               4        3   \n",
       "3              4             3              12               4        4   \n",
       "4              5             1              12               2        0   \n",
       "\n",
       "   savings_account  employment_st  poi  personal_status  gurantors  \\\n",
       "0                0              4  4.0                2          0   \n",
       "1                0              4  3.0                1          2   \n",
       "2                0              4  1.0                1          0   \n",
       "3                4              4  4.0                2          0   \n",
       "4                4              0  1.0                1          0   \n",
       "\n",
       "   resident_since  property_type   age  installment_type  housing_type  \\\n",
       "0               4              3  54.0                 2             2   \n",
       "1               4              0  48.0                 0             0   \n",
       "2               4              1  24.0                 2             1   \n",
       "3               4              2  35.0                 2             1   \n",
       "4               2              0  24.0                 2             0   \n",
       "\n",
       "   credits_no  job_type  liables  telephone  foreigner  \n",
       "0           2         2        2          0          0  \n",
       "1           2         1        1          1          0  \n",
       "2           2         2        1          0          0  \n",
       "3           2         2        1          0          0  \n",
       "4           1         0        1          0          0  "
      ]
     },
     "execution_count": 50,
     "metadata": {},
     "output_type": "execute_result"
    }
   ],
   "source": [
    "new.head()"
   ]
  },
  {
   "cell_type": "code",
   "execution_count": 350,
   "id": "0c844f89-f7b0-4002-8c6f-b629685d8ee4",
   "metadata": {},
   "outputs": [
    {
     "data": {
      "text/plain": [
       "Index(['duration_month', 'poi', 'property_type', 'housing_type', 'credits_no',\n",
       "       'job_type', 'telephone', 'foreigner', 'Group_no'],\n",
       "      dtype='object')"
      ]
     },
     "execution_count": 350,
     "metadata": {},
     "output_type": "execute_result"
    }
   ],
   "source": [
    "df1.columns"
   ]
  },
  {
   "cell_type": "code",
   "execution_count": 351,
   "id": "52004dc4-bd05-4f5d-bcb7-ba36deef225d",
   "metadata": {},
   "outputs": [],
   "source": [
    "new1 = new.loc[:,['duration_month','poi','age','property_type','job_type','credits_no','employment_st','housing_type','purpose']]"
   ]
  },
  {
   "cell_type": "code",
   "execution_count": null,
   "id": "f2dd5396-82ca-409b-967f-a3f153f3f3ce",
   "metadata": {},
   "outputs": [],
   "source": []
  },
  {
   "cell_type": "code",
   "execution_count": null,
   "id": "b31ae6de-08b6-4a84-b8f6-8b10476fe60b",
   "metadata": {},
   "outputs": [],
   "source": []
  },
  {
   "cell_type": "code",
   "execution_count": null,
   "id": "6730e53c-a431-437d-acaa-c768c01f2e7c",
   "metadata": {},
   "outputs": [],
   "source": []
  },
  {
   "cell_type": "code",
   "execution_count": null,
   "id": "4212c3b8-2836-49e5-8761-d2e4b7d680aa",
   "metadata": {},
   "outputs": [],
   "source": []
  },
  {
   "cell_type": "code",
   "execution_count": null,
   "id": "b83508c5-7c6f-434b-9c40-5a117296ee1c",
   "metadata": {},
   "outputs": [],
   "source": []
  },
  {
   "cell_type": "code",
   "execution_count": 132,
   "id": "45cb7909-b23d-47b0-889f-d5366f96bc03",
   "metadata": {},
   "outputs": [
    {
     "data": {
      "text/plain": [
       "array([3, 2, 2, 3, 2, 1, 3, 3, 1, 2, 3, 3, 1, 1, 1, 1, 3, 2, 1, 3, 3, 3,\n",
       "       2, 3, 2, 2, 2, 2, 1, 1, 2, 2, 1, 2, 3, 3, 3, 3, 2, 3, 2, 1, 3, 2,\n",
       "       2, 2, 2, 3, 2, 3, 2, 1, 3, 2, 1, 2, 3, 2, 3, 2, 2, 2, 2, 2, 2, 2,\n",
       "       3, 2, 1, 3, 1, 3, 2, 3, 2, 3, 1, 2, 2, 1, 2, 1, 2, 3, 2, 3, 2, 1,\n",
       "       1, 1, 1, 3, 3, 1, 2, 1, 2, 3, 2, 2, 1, 1, 1, 3, 2, 2, 2, 1, 3, 3,\n",
       "       2, 2, 2, 3, 2, 1, 2, 1, 2, 2, 2, 1, 3, 1, 2, 3, 2, 1, 2, 3, 2, 3,\n",
       "       2, 3, 3, 1, 3, 2, 1, 1, 1, 2, 2, 2, 2, 1, 2, 2, 3, 2, 2, 1, 2, 2,\n",
       "       3, 2, 2, 3, 2, 2, 2, 2, 2, 2, 3, 2, 2, 2, 1, 2, 3, 2, 2, 1, 2, 3,\n",
       "       2, 2, 3, 2, 1, 1, 2, 1, 2, 2, 1, 3, 2, 2, 2, 3, 2, 1, 3, 3, 1, 3,\n",
       "       1, 1], dtype=int64)"
      ]
     },
     "execution_count": 132,
     "metadata": {},
     "output_type": "execute_result"
    }
   ],
   "source": [
    "pred = ada.predict(new1)\n",
    "pred"
   ]
  },
  {
   "cell_type": "code",
   "execution_count": 168,
   "id": "fd1bca1c-e179-4178-91d1-b9b013f14599",
   "metadata": {},
   "outputs": [
    {
     "data": {
      "text/plain": [
       "(200,)"
      ]
     },
     "execution_count": 168,
     "metadata": {},
     "output_type": "execute_result"
    }
   ],
   "source": [
    "pred.shape"
   ]
  },
  {
   "cell_type": "code",
   "execution_count": 185,
   "id": "76120082-b84c-4bd8-814e-82e8a24db5ba",
   "metadata": {},
   "outputs": [
    {
     "data": {
      "text/html": [
       "<div>\n",
       "<style scoped>\n",
       "    .dataframe tbody tr th:only-of-type {\n",
       "        vertical-align: middle;\n",
       "    }\n",
       "\n",
       "    .dataframe tbody tr th {\n",
       "        vertical-align: top;\n",
       "    }\n",
       "\n",
       "    .dataframe thead th {\n",
       "        text-align: right;\n",
       "    }\n",
       "</style>\n",
       "<table border=\"1\" class=\"dataframe\">\n",
       "  <thead>\n",
       "    <tr style=\"text-align: right;\">\n",
       "      <th></th>\n",
       "      <th>serial number</th>\n",
       "      <th>group_no</th>\n",
       "    </tr>\n",
       "  </thead>\n",
       "  <tbody>\n",
       "    <tr>\n",
       "      <th>0</th>\n",
       "      <td>1</td>\n",
       "      <td>2</td>\n",
       "    </tr>\n",
       "    <tr>\n",
       "      <th>1</th>\n",
       "      <td>2</td>\n",
       "      <td>3</td>\n",
       "    </tr>\n",
       "    <tr>\n",
       "      <th>2</th>\n",
       "      <td>3</td>\n",
       "      <td>1</td>\n",
       "    </tr>\n",
       "    <tr>\n",
       "      <th>3</th>\n",
       "      <td>4</td>\n",
       "      <td>3</td>\n",
       "    </tr>\n",
       "    <tr>\n",
       "      <th>4</th>\n",
       "      <td>5</td>\n",
       "      <td>3</td>\n",
       "    </tr>\n",
       "    <tr>\n",
       "      <th>...</th>\n",
       "      <td>...</td>\n",
       "      <td>...</td>\n",
       "    </tr>\n",
       "    <tr>\n",
       "      <th>195</th>\n",
       "      <td>196</td>\n",
       "      <td>3</td>\n",
       "    </tr>\n",
       "    <tr>\n",
       "      <th>196</th>\n",
       "      <td>197</td>\n",
       "      <td>1</td>\n",
       "    </tr>\n",
       "    <tr>\n",
       "      <th>197</th>\n",
       "      <td>198</td>\n",
       "      <td>3</td>\n",
       "    </tr>\n",
       "    <tr>\n",
       "      <th>198</th>\n",
       "      <td>199</td>\n",
       "      <td>1</td>\n",
       "    </tr>\n",
       "    <tr>\n",
       "      <th>199</th>\n",
       "      <td>200</td>\n",
       "      <td>1</td>\n",
       "    </tr>\n",
       "  </tbody>\n",
       "</table>\n",
       "<p>200 rows × 2 columns</p>\n",
       "</div>"
      ],
      "text/plain": [
       "     serial number  group_no\n",
       "0                1         2\n",
       "1                2         3\n",
       "2                3         1\n",
       "3                4         3\n",
       "4                5         3\n",
       "..             ...       ...\n",
       "195            196         3\n",
       "196            197         1\n",
       "197            198         3\n",
       "198            199         1\n",
       "199            200         1\n",
       "\n",
       "[200 rows x 2 columns]"
      ]
     },
     "execution_count": 185,
     "metadata": {},
     "output_type": "execute_result"
    }
   ],
   "source": [
    "predicted = pd.DataFrame({'serial number':new['serial number'], 'group_no':pred})\n",
    "predicted"
   ]
  },
  {
   "cell_type": "code",
   "execution_count": 134,
   "id": "e1bcba1d-d267-4785-b1e1-f038d3bde05c",
   "metadata": {},
   "outputs": [],
   "source": [
    "predicted.to_csv('ABC_Bank_submission.csv', index=False)"
   ]
  },
  {
   "cell_type": "code",
   "execution_count": null,
   "id": "7a92d47a-22e3-4688-8192-fe35d67c4b77",
   "metadata": {},
   "outputs": [],
   "source": []
  }
 ],
 "metadata": {
  "kernelspec": {
   "display_name": "Python 3 (ipykernel)",
   "language": "python",
   "name": "python3"
  },
  "language_info": {
   "codemirror_mode": {
    "name": "ipython",
    "version": 3
   },
   "file_extension": ".py",
   "mimetype": "text/x-python",
   "name": "python",
   "nbconvert_exporter": "python",
   "pygments_lexer": "ipython3",
   "version": "3.9.12"
  }
 },
 "nbformat": 4,
 "nbformat_minor": 5
}
